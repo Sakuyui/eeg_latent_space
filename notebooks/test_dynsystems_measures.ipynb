{
 "cells": [
  {
   "cell_type": "code",
   "execution_count": 1,
   "id": "919cbddb-793d-4328-bfce-f04a782aff69",
   "metadata": {},
   "outputs": [],
   "source": [
    "import os\n",
    "from glob import glob\n",
    "\n",
    "import fathon\n",
    "import matplotlib.pyplot as plt\n",
    "import numpy as np\n",
    "import pandas as pd\n",
    "import dynamic_properties as dynprop\n",
    "from fathon import fathonUtils as fu\n",
    "from hurst import compute_Hc\n",
    "from scipy.stats import chi2\n",
    "from utils import RESULTS_ROOT\n",
    "import logging\n",
    "\n",
    "logging.basicConfig(level=logging.INFO)\n",
    "\n",
    "FOLDERS = [\n",
    "    \"20210916_4microstates_2.0-20.0Hz_EC_subjectwise\",\n",
    "    \"20210917_4PCA_2.0-20.0Hz_EC_subjectwise\",\n",
    "    \"20211025_4hmm_2.0-20.0Hz_EC_subjectwise\",\n",
    "]\n",
    "\n",
    "fold_names = [\n",
    "    \"-\".join(fold.split(\"_\")[1:3]).replace(\"-2.0-20.0Hz\", \"\") for fold in FOLDERS\n",
    "]"
   ]
  },
  {
   "cell_type": "code",
   "execution_count": 2,
   "id": "0c5e2cd8-dd5a-49d4-85af-2f3f751dc8dd",
   "metadata": {},
   "outputs": [],
   "source": [
    "# subjects intersection\n",
    "all_sets = []\n",
    "for fold in FOLDERS:\n",
    "    files = sorted(glob(f\"{os.path.join(RESULTS_ROOT, fold)}/sub*.npz\"))\n",
    "    all_sets.append(set([file.split(\"/\")[-1].split(\"_\")[0] for file in files]))\n",
    "subjects_intersection = set.intersection(*all_sets)"
   ]
  },
  {
   "cell_type": "code",
   "execution_count": 3,
   "id": "04a4ecc1-0ab0-46ce-a9cc-da7481b30c22",
   "metadata": {},
   "outputs": [],
   "source": [
    "all_segmentations = []\n",
    "all_segmentations_subjectwise = []\n",
    "for fold in FOLDERS:\n",
    "    concat_segmentations = []\n",
    "    for file in sorted(glob(f\"{os.path.join(RESULTS_ROOT, fold)}/sub*.npz\")):\n",
    "        subj = file.split(\"/\")[-1].split(\"_\")[0]\n",
    "        if subj not in subjects_intersection:\n",
    "            continue\n",
    "        loaded = np.load(file)\n",
    "        concat_segmentations.append(loaded[\"latent_segmentation\"])\n",
    "    all_segmentations_subjectwise.append(concat_segmentations)\n",
    "    concat = np.concatenate(concat_segmentations)\n",
    "    all_segmentations.append(concat)\n",
    "\n",
    "all_segmentations = np.vstack(all_segmentations)"
   ]
  },
  {
   "cell_type": "code",
   "execution_count": 4,
   "id": "6f48a787-d1af-4975-8515-7ce506eef180",
   "metadata": {},
   "outputs": [
    {
     "data": {
      "text/plain": [
       "(3, 202, (119345,))"
      ]
     },
     "execution_count": 4,
     "metadata": {},
     "output_type": "execute_result"
    }
   ],
   "source": [
    "len(all_segmentations_subjectwise), len(\n",
    "    all_segmentations_subjectwise[0]\n",
    "), all_segmentations_subjectwise[0][0].shape"
   ]
  },
  {
   "cell_type": "code",
   "execution_count": 5,
   "id": "02fe4bd6-237e-47d5-bed4-ef30572536b2",
   "metadata": {},
   "outputs": [
    {
     "name": "stderr",
     "output_type": "stream",
     "text": [
      "/Users/nikola/.virtualenvs/eeg_latent/lib/python3.7/site-packages/ipykernel_launcher.py:1: VisibleDeprecationWarning: Creating an ndarray from ragged nested sequences (which is a list-or-tuple of lists-or-tuples-or ndarrays with different lengths or shapes) is deprecated. If you meant to do this, you must specify 'dtype=object' when creating the ndarray.\n",
      "  \"\"\"Entry point for launching an IPython kernel.\n"
     ]
    },
    {
     "data": {
      "text/plain": [
       "(3, 202)"
      ]
     },
     "execution_count": 5,
     "metadata": {},
     "output_type": "execute_result"
    }
   ],
   "source": [
    "np.array(all_segmentations_subjectwise).shape"
   ]
  },
  {
   "cell_type": "code",
   "execution_count": 6,
   "id": "016ac0fc-a638-4092-9a1e-f27ce6b995c4",
   "metadata": {},
   "outputs": [],
   "source": [
    "def p_empirical(data, n_clusters):\n",
    "    \"\"\"Empirical symbol distribution\n",
    "    Args:\n",
    "        data: numpy.array, size = length of microstate sequence\n",
    "        n_clusters: number of microstate clusters\n",
    "    Returns:\n",
    "        p: empirical distribution\n",
    "    \"\"\"\n",
    "    p = np.zeros(n_clusters)\n",
    "    n = len(data)\n",
    "    for i in range(n):\n",
    "        p[data[i]] += 1.0\n",
    "    p /= n\n",
    "    return p\n",
    "\n",
    "\n",
    "def T_empirical(data, n_clusters):\n",
    "    \"\"\"Empirical transition matrix\n",
    "    Args:\n",
    "        data: numpy.array, size = length of microstate sequence\n",
    "        n_clusters: number of microstate clusters\n",
    "    Returns:\n",
    "        T: empirical transition matrix\n",
    "    \"\"\"\n",
    "    T = np.zeros((n_clusters, n_clusters))\n",
    "    n = len(data)\n",
    "    for i in range(n - 1):\n",
    "        T[data[i], data[i + 1]] += 1.0\n",
    "    p_row = np.sum(T, axis=1)\n",
    "    for i in range(n_clusters):\n",
    "        if p_row[i] != 0.0:\n",
    "            for j in range(n_clusters):\n",
    "                T[i, j] /= p_row[i]  # normalize row sums to 1.0\n",
    "    return T\n",
    "\n",
    "\n",
    "def p_equilibrium(T):\n",
    "    \"\"\"\n",
    "    get equilibrium distribution from transition matrix:\n",
    "    lambda = 1 - (left) eigenvector\n",
    "    \"\"\"\n",
    "    evals, evecs = np.linalg.eig(T.transpose())\n",
    "    i = np.where(np.isclose(evals, 1.0, atol=1e-6))[0][0]  # locate max eigenval.\n",
    "    p_eq = np.abs(evecs[:, i])  # make eigenvec. to max. eigenval. non-negative\n",
    "    p_eq /= p_eq.sum()  # normalized eigenvec. to max. eigenval.\n",
    "    return p_eq  # stationary distribution\n",
    "\n",
    "\n",
    "def max_entropy(n_clusters):\n",
    "    \"\"\"Maximum Shannon entropy of a sequence with n_clusters\n",
    "    Args:\n",
    "        n_clusters: number of microstate clusters\n",
    "    Returns:\n",
    "        h_max: maximum Shannon entropy\n",
    "    \"\"\"\n",
    "    h_max = np.log(float(n_clusters))\n",
    "    return h_max\n",
    "\n",
    "\n",
    "def mixing_time(X, ns):\n",
    "    \"\"\"\n",
    "    Relaxation time, inverse of spectral gap\n",
    "    Arguments:\n",
    "        X: microstate label sequence\n",
    "        ns: number of unique labels\n",
    "    \"\"\"\n",
    "    T_hat = T_empirical(X, ns)  # transition matrix\n",
    "    ev = np.linalg.eigvals(T_hat)\n",
    "    # ev = np.real_if_close(ev)\n",
    "    ev = np.real(ev)\n",
    "    ev.sort()  # ascending\n",
    "    ev2 = np.flipud(ev)  # descending\n",
    "    # print(\"ordered eigenvalues: {:s}\".format|(str(ev2)))\n",
    "    sg = ev2[0] - ev2[1]  # spectral gap\n",
    "    T_mix = 1.0 / sg  # mixing time\n",
    "    return T_mix\n",
    "\n",
    "\n",
    "def H_1(x, ns):\n",
    "    \"\"\"Shannon entropy of the symbolic sequence x with ns symbols.\n",
    "    Args:\n",
    "        x: symbolic sequence, symbols = [0, 1, 2, ...]\n",
    "        ns: number of symbols\n",
    "    Returns:\n",
    "        h: Shannon entropy of x\n",
    "    \"\"\"\n",
    "\n",
    "    n = len(x)\n",
    "    p = np.zeros(ns)  # symbol distribution\n",
    "    for t in range(n):\n",
    "        p[x[t]] += 1.0\n",
    "    p /= n\n",
    "    h = -np.sum(p[p > 0] * np.log(p[p > 0]))\n",
    "    return h\n",
    "\n",
    "\n",
    "def H_2(x, y, ns):\n",
    "    \"\"\"Joint Shannon entropy of the symbolic sequences X, Y with ns symbols.\n",
    "    Args:\n",
    "        x, y: symbolic sequences, symbols = [0, 1, 2, ...]\n",
    "        ns: number of symbols\n",
    "    Returns:\n",
    "        h: Shannon entropy of x\n",
    "    \"\"\"\n",
    "\n",
    "    if len(x) != len(y):\n",
    "        print(\"H_2 warning: sequences of different lengths, using the shorter...\")\n",
    "    n = min([len(x), len(y)])\n",
    "    p = np.zeros((ns, ns))  # joint distribution\n",
    "    for t in range(n):\n",
    "        p[x[t], y[t]] += 1.0\n",
    "    p /= n\n",
    "    h = -np.sum(p[p > 0] * np.log(p[p > 0]))\n",
    "    return h\n",
    "\n",
    "\n",
    "def H_k(x, ns, k):\n",
    "    \"\"\"Shannon's joint entropy from x[n+p:n-m]\n",
    "    x: symbolic time series\n",
    "    ns: number of symbols\n",
    "    k: length of k-history\n",
    "    \"\"\"\n",
    "\n",
    "    N = len(x)\n",
    "    f = np.zeros(tuple(k * [ns]))\n",
    "    for t in range(N - k):\n",
    "        f[tuple(x[t : t + k])] += 1.0\n",
    "    f /= N - k  # normalize distribution\n",
    "    hk = -np.sum(f[f > 0] * np.log(f[f > 0]))\n",
    "    # m = np.sum(f>0)\n",
    "    # hk = hk + (m-1)/(2*N) # Miller-Madow bias correction\n",
    "    return hk\n",
    "\n",
    "\n",
    "def excess_entropy_rate(x, ns, kmax, doplot=False):\n",
    "    # y = ax+b: line fit to joint entropy for range of histories k\n",
    "    # a = entropy rate (slope)\n",
    "    # b = excess entropy (intersect.)\n",
    "    h_ = np.zeros(kmax)\n",
    "    for k in range(kmax):\n",
    "        h_[k] = H_k(x, ns, k + 1)\n",
    "    ks = np.arange(1, kmax + 1)\n",
    "    a, b = np.polyfit(ks, h_, 1)\n",
    "    # --- Figure ---\n",
    "    if doplot:\n",
    "        plt.figure(figsize=(6, 6))\n",
    "        plt.plot(ks, h_, \"-sk\")\n",
    "        plt.plot(ks, a * ks + b, \"-b\")\n",
    "        plt.xlabel(\"k\")\n",
    "        plt.ylabel(\"$H_k$\")\n",
    "        plt.title(\"Entropy rate\")\n",
    "        plt.tight_layout()\n",
    "        plt.show()\n",
    "    return (a, b)\n",
    "\n",
    "\n",
    "def mc_entropy_rate(p, T):\n",
    "    \"\"\"Markov chain entropy rate.\n",
    "    - \\sum_i sum_j p_i T_ij log(T_ij)\n",
    "    \"\"\"\n",
    "    h = 0.0\n",
    "    for i, j in np.ndindex(T.shape):\n",
    "        if T[i, j] > 0:\n",
    "            h -= p[i] * T[i, j] * np.log(T[i, j])\n",
    "    return h\n",
    "\n",
    "\n",
    "def mutinf(x, ns, lmax):\n",
    "    \"\"\"Time-lagged mutual information of symbolic sequence x with\n",
    "    ns different symbols, up to maximum lag lmax.\n",
    "    *** Symbols must be 0, 1, 2, ... to use as indices directly! ***\n",
    "    Args:\n",
    "        x: symbolic sequence, symbols = [0, 1, 2, ...]\n",
    "        ns: number of symbols\n",
    "        lmax: maximum time lag\n",
    "    Returns:\n",
    "        mi: time-lagged mutual information\n",
    "    \"\"\"\n",
    "\n",
    "    n = len(x)\n",
    "    mi = np.zeros(lmax)\n",
    "    for l in range(lmax):\n",
    "        if (l + 1) % 10 == 0:\n",
    "            print(f\"mutual information lag: {l+1:d}\\r\", end=\"\")\n",
    "            # sys.stdout.write(s)\n",
    "            # sys.stdout.flush()\n",
    "        nmax = n - l\n",
    "        h1 = H_1(x[:nmax], ns)\n",
    "        h2 = H_1(x[l : l + nmax], ns)\n",
    "        h12 = H_2(x[:nmax], x[l : l + nmax], ns)\n",
    "        mi[l] = h1 + h2 - h12\n",
    "    print(\"\")\n",
    "    return mi\n",
    "\n",
    "\n",
    "def locmax(x):\n",
    "    \"\"\"Get local maxima of 1D-array\n",
    "    Args:\n",
    "        x: numeric sequence\n",
    "    Returns:\n",
    "        m: list, 1D-indices of local maxima\n",
    "    \"\"\"\n",
    "\n",
    "    dx = np.diff(x)  # discrete 1st derivative\n",
    "    zc = np.diff(np.sign(dx))  # zero-crossings of dx\n",
    "    m = 1 + np.where(zc == -2)[0]  # indices of local max.\n",
    "    return m\n",
    "\n",
    "\n",
    "def aif_peak1(mi, fs, doplot=False):\n",
    "    \"\"\"compute time-lagged mut. inf. (AIF) and 1st peak.\"\"\"\n",
    "    dt = 1000.0 / fs  # sampling interval [ms]\n",
    "    mi_filt = np.convolve(mi, np.ones(3) / 3.0, mode=\"same\")\n",
    "    # mi_filt = np.convolve(mi, np.ones(5)/5., mode='same')\n",
    "    mx0 = 8  # 8\n",
    "    jmax = mx0 + locmax(mi_filt[mx0:])[0]\n",
    "    mx_mi = dt * jmax\n",
    "    if doplot:\n",
    "        offset = 5\n",
    "        tmax = 100\n",
    "        fig = plt.figure(1, figsize=(22, 4))\n",
    "        t = dt * np.arange(tmax)\n",
    "        plt.plot(t[offset:tmax], mi[offset:tmax], \"-ok\", label=\"AIF\")\n",
    "        plt.plot(t[offset:tmax], mi_filt[offset:tmax], \"-b\", label=\"smoothed AIF\")\n",
    "        plt.plot(mx_mi, mi[jmax], \"or\", markersize=15, label=\"peak-1\")\n",
    "        plt.xlabel(\"time lag [ms]\")\n",
    "        plt.ylabel(\"mut. inf. [bits]\")\n",
    "        plt.legend(loc=0)\n",
    "        # plt.title(\"mutual information of map sequence\")\n",
    "        # plt.title(s, fontsize=16, fontweight='bold')\n",
    "        plt.show()\n",
    "\n",
    "    return jmax, mx_mi\n",
    "\n",
    "\n",
    "def conditionalHomogeneityTest(X, ns, l, alpha, verbose=True):\n",
    "    \"\"\"Test conditional homogeneity of non-overlapping blocks of\n",
    "    length l of symbolic sequence X with ns symbols\n",
    "    cf. Kullback, Technometrics (1962), Table 9.1.\n",
    "    Args:\n",
    "        x: symbolic sequence, symbols = [0, 1, 2, ...]\n",
    "        ns: number of symbols\n",
    "        l: split x into non-overlapping blocks of size l\n",
    "        alpha: significance level\n",
    "    Returns:\n",
    "        p: p-value of the Chi2 test for independence\n",
    "    \"\"\"\n",
    "\n",
    "    if verbose:\n",
    "        print(\"\\nCONDITIONAL HOMOGENEITY (three-way table):\")\n",
    "    n = len(X)\n",
    "    r = int(np.floor(float(n) / float(l)))  # number of blocks\n",
    "    nl = r * l\n",
    "    if verbose:\n",
    "        print(\"Split data in r = {:d} blocks of length {:d}.\".format(r, l))\n",
    "    f_ijk = np.zeros((r, ns, ns))\n",
    "    f_ij = np.zeros((r, ns))\n",
    "    f_jk = np.zeros((ns, ns))\n",
    "    f_i = np.zeros(r)\n",
    "    f_j = np.zeros(ns)\n",
    "\n",
    "    # calculate f_ijk (time / block dep. transition matrix)\n",
    "    for i in range(r):  # block index\n",
    "        for ii in range(l - 1):  # pos. inside the current block\n",
    "            j = X[i * l + ii]\n",
    "            k = X[i * l + ii + 1]\n",
    "            f_ijk[i, j, k] += 1.0\n",
    "            f_ij[i, j] += 1.0\n",
    "            f_jk[j, k] += 1.0\n",
    "            f_i[i] += 1.0\n",
    "            f_j[j] += 1.0\n",
    "\n",
    "    # conditional homogeneity (Markovianity stationarity)\n",
    "    T = 0.0\n",
    "    for i, j, k in np.ndindex(f_ijk.shape):\n",
    "        # conditional homogeneity\n",
    "        f = f_ijk[i, j, k] * f_j[j] * f_ij[i, j] * f_jk[j, k]\n",
    "        if f > 0:\n",
    "            num_ = f_ijk[i, j, k] * f_j[j]\n",
    "            den_ = f_ij[i, j] * f_jk[j, k]\n",
    "            T += f_ijk[i, j, k] * np.log(num_ / den_)\n",
    "    T *= 2.0\n",
    "    df = (r - 1) * (ns - 1) * ns\n",
    "    # p = chi2test(T, df, alpha)\n",
    "    p = chi2.sf(T, df, loc=0, scale=1)\n",
    "    if verbose:\n",
    "        print(f\"p: {p:.2e} | t: {T:.3f} | df: {df:.1f}\")\n",
    "    return p\n",
    "\n",
    "\n",
    "def testMarkov0(x, ns, alpha, verbose=True):\n",
    "    \"\"\"Test zero-order Markovianity of symbolic sequence x with ns symbols.\n",
    "    Null hypothesis: zero-order MC (iid) <=>\n",
    "    p(X[t]), p(X[t+1]) independent\n",
    "    cf. Kullback, Technometrics (1962)\n",
    "    Args:\n",
    "        x: symbolic sequence, symbols = [0, 1, 2, ...]\n",
    "        ns: number of symbols\n",
    "        alpha: significance level\n",
    "    Returns:\n",
    "        p: p-value of the Chi2 test for independence\n",
    "    \"\"\"\n",
    "\n",
    "    if verbose:\n",
    "        print(\"ZERO-ORDER MARKOVIANITY:\")\n",
    "    n = len(x)\n",
    "    f_ij = np.zeros((ns, ns))\n",
    "    f_i = np.zeros(ns)\n",
    "    f_j = np.zeros(ns)\n",
    "    # calculate f_ij p( x[t]=i, p( x[t+1]=j ) )\n",
    "    for t in range(n - 1):\n",
    "        i = x[t]\n",
    "        j = x[t + 1]\n",
    "        f_ij[i, j] += 1.0\n",
    "        f_i[i] += 1.0\n",
    "        f_j[j] += 1.0\n",
    "    T = 0.0  # statistic\n",
    "    for i, j in np.ndindex(f_ij.shape):\n",
    "        f = f_ij[i, j] * f_i[i] * f_j[j]\n",
    "        if f > 0:\n",
    "            num_ = n * f_ij[i, j]\n",
    "            den_ = f_i[i] * f_j[j]\n",
    "            T += f_ij[i, j] * np.log(num_ / den_)\n",
    "    T *= 2.0\n",
    "    df = (ns - 1.0) * (ns - 1.0)\n",
    "    # p = chi2test(T, df, alpha)\n",
    "    p = chi2.sf(T, df, loc=0, scale=1)\n",
    "    if verbose:\n",
    "        print(f\"p: {p:.2e} | t: {T:.3f} | df: {df:.1f}\")\n",
    "    return p\n",
    "\n",
    "\n",
    "def testMarkov1(X, ns, alpha, verbose=True):\n",
    "    \"\"\"Test first-order Markovianity of symbolic sequence X with ns symbols.\n",
    "    Null hypothesis:\n",
    "    first-order MC <=>\n",
    "    p(X[t+1] | X[t]) = p(X[t+1] | X[t], X[t-1])\n",
    "    cf. Kullback, Technometrics (1962), Tables 8.1, 8.2, 8.6.\n",
    "    Args:\n",
    "        x: symbolic sequence, symbols = [0, 1, 2, ...]\n",
    "        ns: number of symbols\n",
    "        alpha: significance level\n",
    "    Returns:\n",
    "        p: p-value of the Chi2 test for independence\n",
    "    \"\"\"\n",
    "\n",
    "    if verbose:\n",
    "        print(\"\\nFIRST-ORDER MARKOVIANITY:\")\n",
    "    n = len(X)\n",
    "    f_ijk = np.zeros((ns, ns, ns))\n",
    "    f_ij = np.zeros((ns, ns))\n",
    "    f_jk = np.zeros((ns, ns))\n",
    "    f_j = np.zeros(ns)\n",
    "    for t in range(n - 2):\n",
    "        i = X[t]\n",
    "        j = X[t + 1]\n",
    "        k = X[t + 2]\n",
    "        f_ijk[i, j, k] += 1.0\n",
    "        f_ij[i, j] += 1.0\n",
    "        f_jk[j, k] += 1.0\n",
    "        f_j[j] += 1.0\n",
    "    T = 0.0\n",
    "    for i, j, k in np.ndindex(f_ijk.shape):\n",
    "        f = f_ijk[i][j][k] * f_j[j] * f_ij[i][j] * f_jk[j][k]\n",
    "        if f > 0:\n",
    "            num_ = f_ijk[i, j, k] * f_j[j]\n",
    "            den_ = f_ij[i, j] * f_jk[j, k]\n",
    "            T += f_ijk[i, j, k] * np.log(num_ / den_)\n",
    "    T *= 2.0\n",
    "    df = ns * (ns - 1) * (ns - 1)\n",
    "    # p = chi2test(T, df, alpha)\n",
    "    p = chi2.sf(T, df, loc=0, scale=1)\n",
    "    if verbose:\n",
    "        print(f\"p: {p:.2e} | t: {T:.3f} | df: {df:.1f}\")\n",
    "    return p\n",
    "\n",
    "\n",
    "def testMarkov2(X, ns, alpha, verbose=True):\n",
    "    \"\"\"Test second-order Markovianity of symbolic sequence X with ns symbols.\n",
    "    Null hypothesis:\n",
    "    first-order MC <=>\n",
    "    p(X[t+1] | X[t], X[t-1]) = p(X[t+1] | X[t], X[t-1], X[t-2])\n",
    "    cf. Kullback, Technometrics (1962), Table 10.2.\n",
    "    Args:\n",
    "        x: symbolic sequence, symbols = [0, 1, 2, ...]\n",
    "        ns: number of symbols\n",
    "        alpha: significance level\n",
    "    Returns:\n",
    "        p: p-value of the Chi2 test for independence\n",
    "    \"\"\"\n",
    "\n",
    "    if verbose:\n",
    "        print(\"\\nSECOND-ORDER MARKOVIANITY:\")\n",
    "    n = len(X)\n",
    "    f_ijkl = np.zeros((ns, ns, ns, ns))\n",
    "    f_ijk = np.zeros((ns, ns, ns))\n",
    "    f_jkl = np.zeros((ns, ns, ns))\n",
    "    f_jk = np.zeros((ns, ns))\n",
    "    for t in range(n - 3):\n",
    "        i = X[t]\n",
    "        j = X[t + 1]\n",
    "        k = X[t + 2]\n",
    "        l = X[t + 3]\n",
    "        f_ijkl[i, j, k, l] += 1.0\n",
    "        f_ijk[i, j, k] += 1.0\n",
    "        f_jkl[j, k, l] += 1.0\n",
    "        f_jk[j, k] += 1.0\n",
    "    T = 0.0\n",
    "    for i, j, k, l in np.ndindex(f_ijkl.shape):\n",
    "        f = f_ijkl[i, j, k, l] * f_ijk[i, j, k] * f_jkl[j, k, l] * f_jk[j, k]\n",
    "        if f > 0:\n",
    "            num_ = f_ijkl[i, j, k, l] * f_jk[j, k]\n",
    "            den_ = f_ijk[i, j, k] * f_jkl[j, k, l]\n",
    "            T += f_ijkl[i, j, k, l] * np.log(num_ / den_)\n",
    "    T *= 2.0\n",
    "    df = ns * ns * (ns - 1) * (ns - 1)\n",
    "    # p = chi2test(T, df, alpha)\n",
    "    p = chi2.sf(T, df, loc=0, scale=1)\n",
    "    if verbose:\n",
    "        print(f\"p: {p:.2e} | t: {T:.3f} | df: {df:.1f}\")\n",
    "    return p"
   ]
  },
  {
   "cell_type": "code",
   "execution_count": 7,
   "id": "98c6991d-e3d5-481c-8d47-e41a6af92c26",
   "metadata": {},
   "outputs": [
    {
     "name": "stdout",
     "output_type": "stream",
     "text": [
      "[0.27568813 0.2588462  0.26418367 0.201282  ]\n",
      "[0.27568813 0.2588462  0.26418367 0.201282  ]\n"
     ]
    }
   ],
   "source": [
    "p = p_empirical(all_segmentations_subjectwise[0][0], n_clusters=4)\n",
    "print(p)\n",
    "\n",
    "p1 = dynprop.empirical_distribution(all_segmentations_subjectwise[0][0], n_states=4)\n",
    "print(p1)"
   ]
  },
  {
   "cell_type": "code",
   "execution_count": 8,
   "id": "1142ba92-aff2-4afe-a3b4-7325ea7ef61d",
   "metadata": {},
   "outputs": [
    {
     "data": {
      "text/plain": [
       "array([[0.92824144, 0.02650295, 0.02683727, 0.01841833],\n",
       "       [0.02615564, 0.92800725, 0.02560533, 0.02023178],\n",
       "       [0.02892575, 0.02343874, 0.92540201, 0.0222335 ],\n",
       "       [0.02664335, 0.02551934, 0.0282253 , 0.91961201]])"
      ]
     },
     "execution_count": 8,
     "metadata": {},
     "output_type": "execute_result"
    }
   ],
   "source": [
    "T = T_empirical(all_segmentations_subjectwise[0][0], n_clusters=4)\n",
    "T"
   ]
  },
  {
   "cell_type": "code",
   "execution_count": 9,
   "id": "d3e762fb-69cb-4404-8584-64c3dba9ffb7",
   "metadata": {},
   "outputs": [
    {
     "name": "stdout",
     "output_type": "stream",
     "text": [
      "[0.27560532 0.25884749 0.26418705 0.20136014]\n",
      "[0.27560532 0.25884749 0.26418705 0.20136014]\n"
     ]
    }
   ],
   "source": [
    "print(p_equilibrium(T))\n",
    "print(dynprop.equilibrium_distribution(T))"
   ]
  },
  {
   "cell_type": "code",
   "execution_count": 10,
   "id": "5598bd89-9910-4531-a6db-426f1d01ca74",
   "metadata": {},
   "outputs": [
    {
     "name": "stdout",
     "output_type": "stream",
     "text": [
      "1.3862943611198906 1.3793786461243605\n",
      "1.3862943611198906 1.3793786461243605\n"
     ]
    }
   ],
   "source": [
    "print(max_entropy(4), H_1(all_segmentations_subjectwise[0][0], 4))\n",
    "print(dynprop.max_entropy(4, log2=False), dynprop.H_1(all_segmentations_subjectwise[0][0], 4, log2=False))"
   ]
  },
  {
   "cell_type": "code",
   "execution_count": 11,
   "id": "24728b54-654a-44e7-8d3b-21431f0b2f22",
   "metadata": {},
   "outputs": [
    {
     "name": "stdout",
     "output_type": "stream",
     "text": [
      "10.236559781962528\n",
      "10.236559781962528\n"
     ]
    }
   ],
   "source": [
    "print(mixing_time(all_segmentations_subjectwise[0][0], 4))\n",
    "print(dynprop.mixing_time(T))"
   ]
  },
  {
   "cell_type": "code",
   "execution_count": 12,
   "id": "392f2b11-8dbb-49ba-8fe2-bcc91d135cef",
   "metadata": {},
   "outputs": [
    {
     "data": {
      "image/png": "[encoded data removed]",
      "text/plain": [
       "<Figure size 432x432 with 1 Axes>"
      ]
     },
     "metadata": {
      "needs_background": "dark"
     },
     "output_type": "display_data"
    },
    {
     "name": "stdout",
     "output_type": "stream",
     "text": [
      "0.3326668538499432 0.3456566077730264 1.0578318059934286\n",
      "0.3326668538499432 0.3456566077730264 1.0578318059934286\n"
     ]
    }
   ],
   "source": [
    "kmax = 6\n",
    "h_rate, h_exess = excess_entropy_rate(\n",
    "    all_segmentations_subjectwise[0][0], 4, kmax, doplot=True\n",
    ")\n",
    "h_mc = mc_entropy_rate(p, T)\n",
    "print(h_rate, h_mc, h_exess)\n",
    "\n",
    "a, b = dynprop.excess_entropy_rate(all_segmentations_subjectwise[0][0], 4, kmax, False)\n",
    "c = dynprop.markov_chain_entropy_rate(p, T, False)\n",
    "\n",
    "print(a, c, b)"
   ]
  },
  {
   "cell_type": "code",
   "execution_count": 13,
   "id": "449f14b7-d3fc-4db7-a0f2-1c20a528e3f0",
   "metadata": {},
   "outputs": [
    {
     "name": "stdout",
     "output_type": "stream",
     "text": [
      "mutual information lag: 100\n",
      "29 116.0\n"
     ]
    },
    {
     "name": "stderr",
     "output_type": "stream",
     "text": [
      "100%|█████████████████████████████████████████████████████████████████████████████████████████████████████████████████████████████████████████████████████████████████████| 100/100 [00:13<00:00,  7.32it/s]"
     ]
    },
    {
     "name": "stdout",
     "output_type": "stream",
     "text": [
      "(29, 116.0)\n"
     ]
    },
    {
     "name": "stderr",
     "output_type": "stream",
     "text": [
      "\n"
     ]
    },
    {
     "data": {
      "text/plain": [
       "[<matplotlib.lines.Line2D at 0x1448d1990>]"
      ]
     },
     "execution_count": 13,
     "metadata": {},
     "output_type": "execute_result"
    },
    {
     "data": {
      "image/png": "[encoded data removed]",
      "text/plain": [
       "<Figure size 432x288 with 1 Axes>"
      ]
     },
     "metadata": {
      "needs_background": "dark"
     },
     "output_type": "display_data"
    }
   ],
   "source": [
    "l_max = 100\n",
    "n_mc = 10\n",
    "aif = mutinf(all_segmentations_subjectwise[0][0], 4, l_max)\n",
    "jmax, mx_mi = aif_peak1(aif, 250.0, doplot=False)\n",
    "print(jmax, mx_mi)\n",
    "\n",
    "aif1 = dynprop.lagged_mutual_information(all_segmentations_subjectwise[0][0], 4, l_max, False)\n",
    "print(dynprop.find_1st_aif_peak(aif1, 250.0))\n",
    "\n",
    "plt.plot(aif)\n",
    "plt.plot(aif1)\n"
   ]
  },
  {
   "cell_type": "code",
   "execution_count": 14,
   "id": "acf4616d-cb04-4b28-8952-4adf4a78457c",
   "metadata": {},
   "outputs": [
    {
     "name": "stdout",
     "output_type": "stream",
     "text": [
      "ZERO-ORDER MARKOVIANITY:\n",
      "p: 0.00e+00 | t: 246739.272 | df: 9.0\n",
      "\n",
      "FIRST-ORDER MARKOVIANITY:\n",
      "p: 6.07e-277 | t: 1428.486 | df: 36.0\n",
      "\n",
      "SECOND-ORDER MARKOVIANITY:\n",
      "p: 7.16e-235 | t: 1554.152 | df: 144.0\n",
      "0.0 6.065673648228919e-277 7.162446468928586e-235\n"
     ]
    }
   ],
   "source": [
    "alpha = 0.01\n",
    "\n",
    "m0 = testMarkov0(all_segmentations_subjectwise[0][0], 4, alpha)\n",
    "m1 = testMarkov1(all_segmentations_subjectwise[0][0], 4, alpha)\n",
    "m2 = testMarkov2(all_segmentations_subjectwise[0][0], 4, alpha)\n",
    "\n",
    "print(m0, m1, m2)"
   ]
  },
  {
   "cell_type": "code",
   "execution_count": 15,
   "id": "d14b6e25-14c6-4e4c-ad75-1be2db2c6650",
   "metadata": {},
   "outputs": [
    {
     "name": "stderr",
     "output_type": "stream",
     "text": [
      "INFO:root:p-value: 0.00e+00 | t: 246739.272 | df: 9.0\n",
      "INFO:root:p-value: 6.07e-277 | t: 1428.486 | df: 36.0\n",
      "INFO:root:p-value: 7.16e-235 | t: 1554.152 | df: 144.0\n"
     ]
    },
    {
     "name": "stdout",
     "output_type": "stream",
     "text": [
      "(0.0, True, 246739.27225846564, 9.0) (6.065673648228919e-277, True, 1428.4864121537398, 36.0) (7.162446468928586e-235, True, 1554.1515693304789, 144.0)\n"
     ]
    }
   ],
   "source": [
    "m0 = dynprop.test_markovianity_nth_order(all_segmentations_subjectwise[0][0], 4, order=0, log2=False, detailed=True)\n",
    "m1 = dynprop.test_markovianity_nth_order(all_segmentations_subjectwise[0][0], 4, order=1, log2=False, detailed=True)\n",
    "m2 = dynprop.test_markovianity_nth_order(all_segmentations_subjectwise[0][0], 4, order=2, log2=False, detailed=True)\n",
    "\n",
    "print(m0, m1, m2)"
   ]
  },
  {
   "cell_type": "code",
   "execution_count": 16,
   "id": "225c1b0f-34bf-4ef8-8448-21557981915a",
   "metadata": {},
   "outputs": [
    {
     "name": "stdout",
     "output_type": "stream",
     "text": [
      "\n",
      "CONDITIONAL HOMOGENEITY (three-way table):\n",
      "Split data in r = 238 blocks of length 500.\n",
      "p: 4.33e-01 | t: 2856.049 | df: 2844.0\n"
     ]
    },
    {
     "name": "stderr",
     "output_type": "stream",
     "text": [
      "INFO:root:p-value: 4.33e-01 | t: 2856.049 | df: 2844.0\n"
     ]
    },
    {
     "name": "stdout",
     "output_type": "stream",
     "text": [
      "500\n",
      "0.4331444406196716\n",
      "(0.4331444406196716, False, 2856.0491186661934, 2844)\n",
      "\n",
      "CONDITIONAL HOMOGENEITY (three-way table):\n",
      "Split data in r = 119 blocks of length 1000.\n",
      "p: 5.29e-01 | t: 1411.482 | df: 1416.0\n"
     ]
    },
    {
     "name": "stderr",
     "output_type": "stream",
     "text": [
      "INFO:root:p-value: 5.29e-01 | t: 1411.482 | df: 1416.0\n"
     ]
    },
    {
     "name": "stdout",
     "output_type": "stream",
     "text": [
      "1000\n",
      "0.5288798660038978\n",
      "(0.5288798660038978, False, 1411.4821729356245, 1416)\n",
      "\n",
      "CONDITIONAL HOMOGENEITY (three-way table):\n",
      "Split data in r = 47 blocks of length 2500.\n",
      "p: 7.19e-01 | t: 532.305 | df: 552.0\n"
     ]
    },
    {
     "name": "stderr",
     "output_type": "stream",
     "text": [
      "INFO:root:p-value: 7.19e-01 | t: 532.305 | df: 552.0\n"
     ]
    },
    {
     "name": "stdout",
     "output_type": "stream",
     "text": [
      "2500\n",
      "0.7189851781830519\n",
      "(0.7189851781830519, False, 532.3048103442165, 552)\n"
     ]
    }
   ],
   "source": [
    "alpha = 0.01\n",
    "for L in [500, 1000, 2500]:\n",
    "    p3 = conditionalHomogeneityTest(all_segmentations_subjectwise[0][0], 4, L, alpha)\n",
    "    p4 = dynprop.test_stationarity_conditional_homogeneity(all_segmentations_subjectwise[0][0], 4, L, alpha, True)\n",
    "    print(L)\n",
    "    print(p3)\n",
    "    print(p4)"
   ]
  },
  {
   "cell_type": "code",
   "execution_count": null,
   "id": "be453edf-56bd-4d3c-b5f1-e30d0c24fcb4",
   "metadata": {},
   "outputs": [],
   "source": [
    "pydfa = fathon.DFA(all_segmentations_subjectwise[0][0])\n",
    "\n",
    "winSizes = fu.linRangeByStep(int(0.256 / dt), int(16.0 / dt))\n",
    "revSeg = True\n",
    "polOrd = 5\n",
    "\n",
    "n, F = pydfa.computeFlucVec(winSizes, revSeg=revSeg, polOrd=polOrd)\n",
    "print(n, F)\n",
    "H, H_intercept = pydfa.fitFlucVec()\n",
    "print(H, H_intercept)\n",
    "\n",
    "plt.plot(np.log(n), np.log(F), \"ro\")\n",
    "plt.plot(np.log(n), H_intercept + H * np.log(n), \"k-\", label=\"H = {:.2f}\".format(H))\n",
    "plt.xlabel(\"ln(n)\", fontsize=14)\n",
    "plt.ylabel(\"ln(F(n))\", fontsize=14)\n",
    "plt.title(\"DFA\", fontsize=14)\n",
    "plt.legend(loc=0, fontsize=14)\n",
    "plt.show()"
   ]
  },
  {
   "cell_type": "code",
   "execution_count": null,
   "id": "a38724c5-e95b-4163-8977-4ba61d6dec28",
   "metadata": {},
   "outputs": [],
   "source": [
    "limits_list = np.array([[64, 128], [128, 2048], [2048, 4000]], dtype=int)\n",
    "list_H, list_H_intercept = pydfa.multiFitFlucVec(limits_list)\n",
    "\n",
    "clrs = [\"k\", \"b\", \"m\", \"c\", \"y\"]\n",
    "stls = [\"-\", \"--\", \".-\"]\n",
    "plt.plot(np.log(n), np.log(F), \"ro\")\n",
    "for i in range(len(list_H)):\n",
    "    n_rng = np.arange(limits_list[i][0], limits_list[i][1] + 1)\n",
    "    plt.plot(\n",
    "        np.log(n_rng),\n",
    "        list_H_intercept[i] + list_H[i] * np.log(n_rng),\n",
    "        clrs[i % len(clrs)] + stls[(i // len(clrs)) % len(stls)],\n",
    "        label=\"H = {:.2f}\".format(list_H[i]),\n",
    "    )\n",
    "plt.xlabel(\"ln(n)\", fontsize=14)\n",
    "plt.ylabel(\"ln(F(n))\", fontsize=14)\n",
    "plt.title(\"DFA\", fontsize=14)\n",
    "plt.legend(loc=0, fontsize=14)"
   ]
  },
  {
   "cell_type": "code",
   "execution_count": null,
   "id": "705341db-bda9-4461-90db-e03cd7769600",
   "metadata": {},
   "outputs": [],
   "source": [
    "H, c, data = compute_Hc(\n",
    "    all_segmentations_subjectwise[0][0],\n",
    "    kind=\"change\",\n",
    "    simplified=False,\n",
    "    min_window=64,\n",
    "    max_window=4000,\n",
    ")\n",
    "print(H, c)"
   ]
  },
  {
   "cell_type": "code",
   "execution_count": null,
   "id": "4810da9b-7cf3-45c4-a3b9-ece172b921f5",
   "metadata": {},
   "outputs": [],
   "source": [
    "f, ax = plt.subplots()\n",
    "ax.plot(data[0], c * data[0] ** H, color=\"deepskyblue\")\n",
    "ax.scatter(data[0], data[1], color=\"purple\")\n",
    "ax.set_xscale(\"log\")\n",
    "ax.set_yscale(\"log\")\n",
    "ax.set_xlabel(\"Time interval\")\n",
    "ax.set_ylabel(\"R/S ratio\")\n",
    "ax.grid(True)\n",
    "plt.show()"
   ]
  },
  {
   "cell_type": "code",
   "execution_count": null,
   "id": "94d85c4e-d0eb-4c72-b99c-b9f2cf8d20ad",
   "metadata": {},
   "outputs": [],
   "source": [
    "def hurst3(ts):\n",
    "    ts = list(ts)\n",
    "    N = len(ts)\n",
    "    if N < 20:\n",
    "        raise ValueError(\n",
    "            \"Time series is too short! input series ought to have at least 20 samples!\"\n",
    "        )\n",
    "\n",
    "    max_k = int(np.floor(N / 2))\n",
    "    R_S_dict = []\n",
    "    for k in range(10, max_k + 1):\n",
    "        R, S = 0, 0\n",
    "        # split ts into subsets\n",
    "        subset_list = [ts[i : i + k] for i in range(0, N, k)]\n",
    "        if np.mod(N, k) > 0:\n",
    "            subset_list.pop()\n",
    "            # tail = subset_list.pop()\n",
    "            # subset_list[-1].extend(tail)\n",
    "        # calc mean of every subset\n",
    "        mean_list = [np.mean(x) for x in subset_list]\n",
    "        for i in range(len(subset_list)):\n",
    "            cumsum_list = pd.Series(subset_list[i] - mean_list[i]).cumsum()\n",
    "            R += max(cumsum_list) - min(cumsum_list)\n",
    "            S += np.std(subset_list[i])\n",
    "        R_S_dict.append({\"R\": R / len(subset_list), \"S\": S / len(subset_list), \"n\": k})\n",
    "\n",
    "    log_R_S = []\n",
    "    log_n = []\n",
    "    print(R_S_dict)\n",
    "    for i in range(len(R_S_dict)):\n",
    "        R_S = (R_S_dict[i][\"R\"] + np.spacing(1)) / (R_S_dict[i][\"S\"] + np.spacing(1))\n",
    "        log_R_S.append(np.log(R_S))\n",
    "        log_n.append(np.log(R_S_dict[i][\"n\"]))\n",
    "\n",
    "    Hurst_exponent = np.polyfit(log_n, log_R_S, 1)[0]\n",
    "    return Hurst_exponent\n",
    "\n",
    "\n",
    "print(hurst3(all_segmentations_subjectwise[0][0]))"
   ]
  },
  {
   "cell_type": "code",
   "execution_count": null,
   "id": "444b4b7f-2b4a-4e8b-86dc-3a2f82bb7553",
   "metadata": {},
   "outputs": [],
   "source": []
  }
 ],
 "metadata": {
  "kernelspec": {
   "display_name": "Python 3 (ipykernel)",
   "language": "python",
   "name": "python3"
  },
  "language_info": {
   "codemirror_mode": {
    "name": "ipython",
    "version": 3
   },
   "file_extension": ".py",
   "mimetype": "text/x-python",
   "name": "python",
   "nbconvert_exporter": "python",
   "pygments_lexer": "ipython3",
   "version": "3.7.12"
  }
 },
 "nbformat": 4,
 "nbformat_minor": 5
}
