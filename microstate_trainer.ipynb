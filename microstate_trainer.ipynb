{
 "cells": [
  {
   "cell_type": "code",
   "execution_count": 2,
   "metadata": {},
   "outputs": [],
   "source": [
    "import numpy as np\n",
    "import torch\n",
    "import mne\n",
    "import os, sys\n",
    "sys.path.append(\".\")\n",
    "sys.path.append(\"./code\")"
   ]
  },
  {
   "cell_type": "code",
   "execution_count": 3,
   "metadata": {},
   "outputs": [],
   "source": [
    "raw_data_folder = '../data/ethz_ieeg/long-term/ID01/'"
   ]
  },
  {
   "cell_type": "code",
   "execution_count": 4,
   "metadata": {},
   "outputs": [
    {
     "data": {
      "text/plain": [
       "['ID01_1h.mat', 'ID01_2h.mat']"
      ]
     },
     "execution_count": 4,
     "metadata": {},
     "output_type": "execute_result"
    }
   ],
   "source": [
    "EEG_raw_files = os.listdir(raw_data_folder)\n",
    "EEG_raw_files"
   ]
  },
  {
   "cell_type": "code",
   "execution_count": 5,
   "metadata": {},
   "outputs": [],
   "source": [
    "from eeg_recording import SingleSubjectRecording"
   ]
  },
  {
   "cell_type": "code",
   "execution_count": 6,
   "metadata": {},
   "outputs": [],
   "source": [
    "import scipy\n",
    "example_data = scipy.io.loadmat(os.path.join(raw_data_folder, EEG_raw_files[0]))['EEG']\n",
    "example_data = example_data"
   ]
  },
  {
   "cell_type": "code",
   "execution_count": 24,
   "metadata": {},
   "outputs": [
    {
     "name": "stdout",
     "output_type": "stream",
     "text": [
      "Creating RawArray with float64 data, n_channels=88, n_times=1843200\n",
      "    Range : 0 ... 1843199 =      0.000 ...  3599.998 secs\n",
      "Ready.\n"
     ]
    }
   ],
   "source": [
    "mne_example_data = mne.io.RawArray(example_data, mne.create_info(ch_names=[f'eeg unknow_ch_{i}'for i in range(example_data.shape[0])], sfreq=512))"
   ]
  },
  {
   "cell_type": "code",
   "execution_count": 25,
   "metadata": {},
   "outputs": [
    {
     "name": "stderr",
     "output_type": "stream",
     "text": [
      "/tmp/ipykernel_109516/1345481350.py:1: RuntimeWarning: The unit for channel(s) eeg unknow_ch_0, eeg unknow_ch_1, eeg unknow_ch_10, eeg unknow_ch_11, eeg unknow_ch_12, eeg unknow_ch_13, eeg unknow_ch_14, eeg unknow_ch_15, eeg unknow_ch_16, eeg unknow_ch_17, eeg unknow_ch_18, eeg unknow_ch_19, eeg unknow_ch_2, eeg unknow_ch_20, eeg unknow_ch_21, eeg unknow_ch_22, eeg unknow_ch_23, eeg unknow_ch_24, eeg unknow_ch_25, eeg unknow_ch_26, eeg unknow_ch_27, eeg unknow_ch_28, eeg unknow_ch_29, eeg unknow_ch_3, eeg unknow_ch_30, eeg unknow_ch_31, eeg unknow_ch_32, eeg unknow_ch_33, eeg unknow_ch_34, eeg unknow_ch_35, eeg unknow_ch_36, eeg unknow_ch_37, eeg unknow_ch_38, eeg unknow_ch_39, eeg unknow_ch_4, eeg unknow_ch_40, eeg unknow_ch_41, eeg unknow_ch_42, eeg unknow_ch_43, eeg unknow_ch_44, eeg unknow_ch_45, eeg unknow_ch_46, eeg unknow_ch_47, eeg unknow_ch_48, eeg unknow_ch_49, eeg unknow_ch_5, eeg unknow_ch_50, eeg unknow_ch_51, eeg unknow_ch_52, eeg unknow_ch_53, eeg unknow_ch_54, eeg unknow_ch_55, eeg unknow_ch_56, eeg unknow_ch_57, eeg unknow_ch_58, eeg unknow_ch_59, eeg unknow_ch_6, eeg unknow_ch_60, eeg unknow_ch_61, eeg unknow_ch_62, eeg unknow_ch_63, eeg unknow_ch_64, eeg unknow_ch_65, eeg unknow_ch_66, eeg unknow_ch_67, eeg unknow_ch_68, eeg unknow_ch_69, eeg unknow_ch_7, eeg unknow_ch_70, eeg unknow_ch_71, eeg unknow_ch_72, eeg unknow_ch_73, eeg unknow_ch_74, eeg unknow_ch_75, eeg unknow_ch_76, eeg unknow_ch_77, eeg unknow_ch_78, eeg unknow_ch_79, eeg unknow_ch_8, eeg unknow_ch_80, eeg unknow_ch_81, eeg unknow_ch_82, eeg unknow_ch_83, eeg unknow_ch_84, eeg unknow_ch_85, eeg unknow_ch_86, eeg unknow_ch_87, eeg unknow_ch_9 has changed from NA to V.\n",
      "  mne_example_data.set_channel_types(dict(zip(mne_example_data.ch_names, ['eeg'] * len(mne_example_data.ch_names))))\n"
     ]
    },
    {
     "data": {
      "text/html": [
       "<details open>\n",
       "    <summary><strong>General</strong></summary>\n",
       "    <table class=\"table table-hover table-striped table-sm table-responsive small\">\n",
       "        <tr>\n",
       "            <th>Measurement date</th>\n",
       "            \n",
       "            <td>Unknown</td>\n",
       "            \n",
       "        </tr>\n",
       "        <tr>\n",
       "            <th>Experimenter</th>\n",
       "            \n",
       "            <td>Unknown</td>\n",
       "            \n",
       "        </tr>\n",
       "        <tr>\n",
       "            <th>Participant</th>\n",
       "            \n",
       "            <td>Unknown</td>\n",
       "            \n",
       "        </tr>\n",
       "    </table>\n",
       "    </details>\n",
       "    <details open>\n",
       "        <summary><strong>Channels</strong></summary>\n",
       "        <table class=\"table table-hover table-striped table-sm table-responsive small\">\n",
       "            <tr>\n",
       "                <th>Digitized points</th>\n",
       "                \n",
       "                <td>Not available</td>\n",
       "                \n",
       "            </tr>\n",
       "            <tr>\n",
       "                <th>Good channels</th>\n",
       "                <td>88 EEG</td>\n",
       "            </tr>\n",
       "            <tr>\n",
       "                <th>Bad channels</th>\n",
       "                <td>None</td>\n",
       "            </tr>\n",
       "            <tr>\n",
       "                <th>EOG channels</th>\n",
       "                <td>Not available</td>\n",
       "            </tr>\n",
       "            <tr>\n",
       "                <th>ECG channels</th>\n",
       "                <td>Not available</td>\n",
       "            </tr>\n",
       "        </table>\n",
       "        </details>\n",
       "        <details open>\n",
       "            <summary><strong>Data</strong></summary>\n",
       "            <table class=\"table table-hover table-striped table-sm table-responsive small\">\n",
       "                \n",
       "                <tr>\n",
       "                    <th>Sampling frequency</th>\n",
       "                    <td>512.00 Hz</td>\n",
       "                </tr>\n",
       "                \n",
       "                \n",
       "                <tr>\n",
       "                    <th>Highpass</th>\n",
       "                    <td>0.00 Hz</td>\n",
       "                </tr>\n",
       "                \n",
       "                \n",
       "                <tr>\n",
       "                    <th>Lowpass</th>\n",
       "                    <td>256.00 Hz</td>\n",
       "                </tr>\n",
       "                \n",
       "                \n",
       "                \n",
       "                \n",
       "                <tr>\n",
       "                    <th>Duration</th>\n",
       "                    <td>00:59:60 (HH:MM:SS)</td>\n",
       "                </tr>\n",
       "                \n",
       "            </table>\n",
       "            </details>"
      ],
      "text/plain": [
       "<RawArray | 88 x 1843200 (3600.0 s), ~1.21 GB, data loaded>"
      ]
     },
     "execution_count": 25,
     "metadata": {},
     "output_type": "execute_result"
    }
   ],
   "source": [
    "mne_example_data.set_channel_types(dict(zip(mne_example_data.ch_names, ['eeg'] * len(mne_example_data.ch_names))))"
   ]
  },
  {
   "cell_type": "code",
   "execution_count": null,
   "metadata": {},
   "outputs": [],
   "source": []
  },
  {
   "cell_type": "code",
   "execution_count": null,
   "metadata": {},
   "outputs": [],
   "source": []
  },
  {
   "cell_type": "code",
   "execution_count": 16,
   "metadata": {},
   "outputs": [
    {
     "name": "stdout",
     "output_type": "stream",
     "text": [
      "EEG channel type selected for re-referencing\n",
      "Applying average reference.\n",
      "Applying a custom ('EEG',) reference.\n"
     ]
    }
   ],
   "source": [
    "mne_example_data = mne_example_data.set_eeg_reference(ref_channels=\"average\")"
   ]
  },
  {
   "cell_type": "code",
   "execution_count": 19,
   "metadata": {},
   "outputs": [
    {
     "name": "stdout",
     "output_type": "stream",
     "text": [
      "Setting up band-pass filter from 0.5 - 70 Hz\n",
      "\n",
      "FIR filter parameters\n",
      "---------------------\n",
      "Designing a one-pass, zero-phase, non-causal bandpass filter:\n",
      "- Windowed time-domain design (firwin) method\n",
      "- Hamming window with 0.0194 passband ripple and 53 dB stopband attenuation\n",
      "- Lower passband edge: 0.50\n",
      "- Lower transition bandwidth: 0.50 Hz (-6 dB cutoff frequency: 0.25 Hz)\n",
      "- Upper passband edge: 70.00 Hz\n",
      "- Upper transition bandwidth: 17.50 Hz (-6 dB cutoff frequency: 78.75 Hz)\n",
      "- Filter length: 3381 samples (6.604 s)\n",
      "\n"
     ]
    },
    {
     "name": "stderr",
     "output_type": "stream",
     "text": [
      "[Parallel(n_jobs=1)]: Done  17 tasks      | elapsed:    0.1s\n"
     ]
    }
   ],
   "source": [
    "data = mne.filter.filter_data(mne_example_data.get_data(), sfreq = 512, l_freq = 0.5, h_freq=70)"
   ]
  },
  {
   "cell_type": "code",
   "execution_count": 20,
   "metadata": {},
   "outputs": [
    {
     "name": "stdout",
     "output_type": "stream",
     "text": [
      "Creating RawArray with float64 data, n_channels=47, n_times=248320\n",
      "    Range : 0 ... 248319 =      0.000 ...   484.998 secs\n",
      "Ready.\n"
     ]
    }
   ],
   "source": [
    "mne_example_data = mne.io.RawArray(data, mne_example_data.info)"
   ]
  },
  {
   "cell_type": "code",
   "execution_count": 7,
   "metadata": {},
   "outputs": [
    {
     "ename": "NameError",
     "evalue": "name 'mne_example_data' is not defined",
     "output_type": "error",
     "traceback": [
      "\u001b[0;31m---------------------------------------------------------------------------\u001b[0m",
      "\u001b[0;31mNameError\u001b[0m                                 Traceback (most recent call last)",
      "Cell \u001b[0;32mIn[7], line 1\u001b[0m\n\u001b[0;32m----> 1\u001b[0m recording \u001b[38;5;241m=\u001b[39m SingleSubjectRecording(\u001b[38;5;241m0\u001b[39m \u001b[38;5;241m<<\u001b[39m \u001b[38;5;241m8\u001b[39m \u001b[38;5;241m+\u001b[39m \u001b[38;5;241m2\u001b[39m, \u001b[43mmne_example_data\u001b[49m)\n",
      "\u001b[0;31mNameError\u001b[0m: name 'mne_example_data' is not defined"
     ]
    }
   ],
   "source": [
    "recording = SingleSubjectRecording(0 << 8 + 2, mne_example_data)"
   ]
  },
  {
   "cell_type": "code",
   "execution_count": 8,
   "metadata": {},
   "outputs": [],
   "source": [
    "from sklearn.decomposition import PCA\n",
    "from hmmlearn import hmm\n",
    "import numpy as np\n",
    "import scipy.signal as signal\n",
    "import matplotlib.pyplot as plt\n",
    "def embedx(x, lags):\n",
    "    \"\"\"Embeds a [samples * channels] array X using a vector of time lags\n",
    "    resulting in a [channels * samples * lags] array xe.\n",
    "    \n",
    "    Parameters\n",
    "    ----------\n",
    "    x : array\n",
    "        Input data [channels x samples].\n",
    "    lags : list\n",
    "        The desired lags.\n",
    "\n",
    "    Return\n",
    "    ------\n",
    "    xe : array\n",
    "        The embedded data [channels, samples, lags]. xe contains\n",
    "        only the valid subsection of the orignal data, after edge\n",
    "        effects have been removed.\n",
    "    valid : array\n",
    "        Boolean array indexing the valid samples in xe.\n",
    "    \"\"\"\n",
    "    Xe = np.zeros((x.shape[1], x.shape[0],  len(lags)))\n",
    "\n",
    "    for l in range(len(lags)):\n",
    "        Xe[:, :, l] = np.roll(x, lags[l], axis=0).swapaxes(0, 1)\n",
    "\n",
    "    # Remove edges\n",
    "    valid = np.ones((x.shape[0], 1), dtype=np.int8)\n",
    "    valid[:np.abs(np.min(lags)), :] = 0\n",
    "    valid[-np.abs(np.max(lags)):, :] = 0\n",
    "\n",
    "    Xe = Xe[:, valid[:, 0] == 1, :]\n",
    "\n",
    "    return Xe, valid\n",
    "\n",
    "\n",
    "def hmm_tde(data: np.array, lags, n_states=3, n_components=8, **kwargs):\n",
    "    \"\"\"Time-delay embedded Hidden markov model.\n",
    "\n",
    "    Adapted from the HMM-MAR toolbox [3].\n",
    "\n",
    "    Parameters\n",
    "    ----------\n",
    "    data : array\n",
    "        Observations [channels * samples].\n",
    "    lags : array | list\n",
    "        Sample lags.\n",
    "    n_states : int\n",
    "        Number of states.\n",
    "    n_components : int\n",
    "        Number of components for the PCQ decomposition.\n",
    "\n",
    "    Return\n",
    "    ------\n",
    "    gamma : array\n",
    "        Time courses of the states probabilities given data.\n",
    "    model : hmmlearn object.\n",
    "        Hidden Markov Model.\n",
    "    xe : array\n",
    "        Embedded data [channels * samples * lags]\n",
    "\n",
    "    References\n",
    "    ----------\n",
    "    [1] Quinn, A. J., van Ede, F., Brookes, M. J., Heideman, S. G., Nowak, M., Seedat,\n",
    "        Z. A., … Woolrich, M. W. (2019). Unpacking Transient Event Dynamics in\n",
    "        Electrophysiological Power Spectra. Brain Topography, 32(6), 1020–1034.\n",
    "        https://doi.org/10.1007/s10548-019-00745-5\n",
    "\n",
    "    [2] Vidaurre, D., Hunt, L. T., Quinn, A. J., Hunt, B. A. E., Brookes, M. J.,\n",
    "        Nobre, A. C., & Woolrich, M. W. (2018). Spontaneous cortical activity\n",
    "        transiently organises into frequency specific phase-coupling networks.\n",
    "        Nature Communications, 9(1). https://doi.org/10.1038/s41467-018-05316-z\n",
    "\n",
    "    [3] https://github.com/OHBA-analysis/HMM-MAR\n",
    "    \"\"\"\n",
    "\n",
    "    # Embed time serie\n",
    "    xe, valid = embedx(data, lags)\n",
    "\n",
    "    pca = PCA(n_components=n_components)\n",
    "    y = pca.fit_transform(xe[0, :, :])\n",
    "\n",
    "    model = hmm.GaussianHMM(n_components=n_states, n_iter=100,\n",
    "                            covariance_type='full', **kwargs)\n",
    "    model.fit(y)\n",
    "    gamma = model.predict_proba(y)\n",
    "    \n",
    "    return gamma, model, xe"
   ]
  },
  {
   "cell_type": "code",
   "execution_count": 9,
   "metadata": {},
   "outputs": [
    {
     "ename": "NameError",
     "evalue": "name 'mne_example_data' is not defined",
     "output_type": "error",
     "traceback": [
      "\u001b[0;31m---------------------------------------------------------------------------\u001b[0m",
      "\u001b[0;31mNameError\u001b[0m                                 Traceback (most recent call last)",
      "Cell \u001b[0;32mIn[9], line 1\u001b[0m\n\u001b[0;32m----> 1\u001b[0m data \u001b[38;5;241m=\u001b[39m \u001b[43mmne_example_data\u001b[49m\u001b[38;5;241m.\u001b[39mget_data()\n",
      "\u001b[0;31mNameError\u001b[0m: name 'mne_example_data' is not defined"
     ]
    }
   ],
   "source": [
    "data = mne_example_data.get_data()"
   ]
  },
  {
   "cell_type": "code",
   "execution_count": null,
   "metadata": {},
   "outputs": [],
   "source": [
    "xe, valid = embedx(data, lags)\n"
   ]
  },
  {
   "cell_type": "code",
   "execution_count": 36,
   "metadata": {},
   "outputs": [
    {
     "ename": "",
     "evalue": "",
     "output_type": "error",
     "traceback": [
      "\u001b[1;31mThe Kernel crashed while executing code in the current cell or a previous cell. \n",
      "\u001b[1;31mPlease review the code in the cell(s) to identify a possible cause of the failure. \n",
      "\u001b[1;31mClick <a href='https://aka.ms/vscodeJupyterKernelCrash'>here</a> for more info. \n",
      "\u001b[1;31mView Jupyter <a href='command:jupyter.viewOutput'>log</a> for further details."
     ]
    }
   ],
   "source": [
    "gamma, model, xe = hmm_tde(, [[15]] * 88, 6)"
   ]
  },
  {
   "cell_type": "markdown",
   "metadata": {},
   "source": []
  },
  {
   "cell_type": "code",
   "execution_count": 27,
   "metadata": {},
   "outputs": [
    {
     "name": "stderr",
     "output_type": "stream",
     "text": [
      "Model is not converging.  Current: -46790717.86348778 is not greater than -46790717.83350316. Delta is -0.029984623193740845\n"
     ]
    }
   ],
   "source": [
    "recording.run_latent_hmm(n_states=9, use_gfp=True)"
   ]
  },
  {
   "cell_type": "code",
   "execution_count": 28,
   "metadata": {},
   "outputs": [
    {
     "data": {
      "text/plain": [
       "(9, 88)"
      ]
     },
     "execution_count": 28,
     "metadata": {},
     "output_type": "execute_result"
    }
   ],
   "source": [
    "microstates = recording.latent_maps\n",
    "microstates.shape"
   ]
  },
  {
   "cell_type": "code",
   "execution_count": 29,
   "metadata": {},
   "outputs": [
    {
     "data": {
      "text/plain": [
       "np.float64(0.0064375399111945225)"
      ]
     },
     "execution_count": 29,
     "metadata": {},
     "output_type": "execute_result"
    }
   ],
   "source": [
    "recording.gev_tot"
   ]
  },
  {
   "cell_type": "code",
   "execution_count": null,
   "metadata": {},
   "outputs": [],
   "source": []
  },
  {
   "cell_type": "code",
   "execution_count": 221,
   "metadata": {},
   "outputs": [],
   "source": [
    "data = mne_example_data.get_data()"
   ]
  },
  {
   "cell_type": "code",
   "execution_count": 180,
   "metadata": {},
   "outputs": [
    {
     "name": "stdout",
     "output_type": "stream",
     "text": [
      "[[ 30.78629073  32.38387228  32.53269755 ... 184.13942999 159.92214329\n",
      "  137.17126715]\n",
      " [-32.93767442 -38.67300829 -47.76458465 ... -25.41480863 -34.60075786\n",
      "  -42.55006125]\n",
      " [ -5.43664283   4.14588945  17.33972476 ... 362.70422868 329.65057379\n",
      "  298.06995285]\n",
      " ...\n",
      " [-70.90081658 -73.39596684 -80.83949145 ... -99.93996995 -96.75787581\n",
      "  -95.07881456]\n",
      " [-71.20564574 -69.23512586 -74.24628047 ... -64.02229791 -58.65491401\n",
      "  -53.85131512]\n",
      " [-36.10473468 -39.34547843 -43.1381015  ...  16.56768132  25.29825924\n",
      "   35.16601051]]\n"
     ]
    },
    {
     "data": {
      "text/plain": [
       "0.489340963862868"
      ]
     },
     "execution_count": 180,
     "metadata": {},
     "output_type": "execute_result"
    }
   ],
   "source": [
    "from data_utils import corr_vectors, get_gfp_peaks\n",
    "\n",
    "activation = microstates.dot(data)\n",
    "segmentation = np.argmax(np.abs(activation), axis=0)\n",
    "print(activation)\n",
    "\n",
    "gfp_curve = None\n",
    "(gfp_peeks, gfp_curve) = get_gfp_peaks(\n",
    "    data, min_peak_dist=2, smoothing=None, smoothing_window=100\n",
    ")\n",
    "gfp_sum_sq = np.sum(gfp_curve**2)\n",
    "map_corr = corr_vectors(data, microstates[segmentation].T)\n",
    "\n",
    "gev_tot = sum((gfp_curve * map_corr) ** 2) / gfp_sum_sq\n",
    "gev_tot\n",
    "\n"
   ]
  },
  {
   "cell_type": "code",
   "execution_count": 276,
   "metadata": {},
   "outputs": [],
   "source": [
    "from data_utils import get_gfp_peaks\n",
    "class MicrostateTrainingModel(torch.nn.Module):\n",
    "    \n",
    "    def __init__(self, n_microstate, n_channels, W = None):\n",
    "        super(MicrostateTrainingModel, self).__init__()\n",
    "        weight_shape = (n_microstate, n_channels)\n",
    "        if W is None:\n",
    "            W = np.random.random(weight_shape)\n",
    "            W = torch.DoubleTensor(W)\n",
    "            norm = W.pow(2).sum(dim=1).sqrt()\n",
    "            W = W / norm.unsqueeze(-1)\n",
    "            self.W = torch.nn.Linear(n_microstate, n_channels, bias  = False)\n",
    "            self.W.weight = torch.nn.Parameter(torch.DoubleTensor(W))\n",
    "        else:\n",
    "            self.W = torch.nn.Linear(n_microstate, n_channels, bias  = False)\n",
    "            self.W.weight = torch.nn.Parameter(torch.DoubleTensor(W))\n",
    "            \n",
    "        self.loss_function = torch.nn.MSELoss()\n",
    "        self.optimizer = torch.optim.Adam(self.parameters(), lr=0.0001, betas=(0.9, 0.999))\n",
    "\n",
    "            \n",
    "    \n",
    "    def corr_vectors(self, A, B, axis=0):\n",
    "        An = A - torch.mean(A, dim=axis, keepdims=True)\n",
    "        Bn = B - torch.mean(B, dim=axis, keepdims=True)\n",
    "        new_An = An / torch.linalg.norm(An, dim=axis, keepdims=True)\n",
    "        new_Bn = Bn / torch.linalg.norm(Bn, dim=axis, keepdims=True)\n",
    "        return torch.sum(new_An * new_Bn, dim=axis)\n",
    "    \n",
    "    def forward(self, eeg_data):\n",
    "        \n",
    "        microstates_maps = self.W\n",
    "        eeg_data = torch.DoubleTensor(eeg_data)\n",
    "        activation = torch.abs(microstates_maps(eeg_data.T)).T\n",
    "        segmentation = torch.argmax(activation, axis = 0)\n",
    "        return segmentation\n",
    "        \n",
    "    def loss(self, eeg_data, segmentation, **kwargs):\n",
    "        # loss\n",
    "        (peaks, gfp_curve) = get_gfp_peaks(\n",
    "            eeg_data,\n",
    "            min_peak_dist=kwargs.pop(\"min_peak_dist\", 2),\n",
    "            smoothing=kwargs.pop(\"smoothing\", None),\n",
    "            smoothing_window=kwargs.pop(\"smoothing_window\", 100),\n",
    "        )\n",
    "        gfp_sum_sq = np.sum(gfp_curve ** 2)\n",
    "\n",
    "        eeg_data = torch.DoubleTensor(eeg_data)\n",
    "        map_corr = self.corr_vectors(eeg_data, self.W.weight[segmentation].T)\n",
    "        \n",
    "        \n",
    "        gev = torch.sum((torch.DoubleTensor(gfp_curve) * map_corr) ** 2) / gfp_sum_sq\n",
    "        \n",
    "        loss = self. loss_function(gev, torch.DoubleTensor([1]))\n",
    "        print(loss, gev)\n",
    "        return loss\n",
    "        "
   ]
  },
  {
   "cell_type": "code",
   "execution_count": 277,
   "metadata": {},
   "outputs": [],
   "source": [
    "model = MicrostateTrainingModel(n_microstate=31, n_channels=47, W = microstates)"
   ]
  },
  {
   "cell_type": "code",
   "execution_count": 278,
   "metadata": {},
   "outputs": [],
   "source": [
    "data = mne_example_data.get_data()"
   ]
  },
  {
   "cell_type": "code",
   "execution_count": 279,
   "metadata": {},
   "outputs": [],
   "source": [
    "segmentation = model.forward(data)"
   ]
  },
  {
   "cell_type": "code",
   "execution_count": null,
   "metadata": {},
   "outputs": [],
   "source": []
  },
  {
   "cell_type": "code",
   "execution_count": 280,
   "metadata": {},
   "outputs": [
    {
     "name": "stdout",
     "output_type": "stream",
     "text": [
      "tensor(0.3497, dtype=torch.float64, grad_fn=<MseLossBackward0>) tensor(0.4086, dtype=torch.float64, grad_fn=<DivBackward0>)\n",
      "tensor(0.3497, dtype=torch.float64, grad_fn=<MseLossBackward0>)\n",
      "tensor(0.3497, dtype=torch.float64, grad_fn=<MseLossBackward0>) tensor(0.4087, dtype=torch.float64, grad_fn=<DivBackward0>)\n",
      "tensor(0.3497, dtype=torch.float64, grad_fn=<MseLossBackward0>)\n",
      "tensor(0.3496, dtype=torch.float64, grad_fn=<MseLossBackward0>) tensor(0.4087, dtype=torch.float64, grad_fn=<DivBackward0>)\n",
      "tensor(0.3496, dtype=torch.float64, grad_fn=<MseLossBackward0>)\n",
      "tensor(0.3496, dtype=torch.float64, grad_fn=<MseLossBackward0>) tensor(0.4087, dtype=torch.float64, grad_fn=<DivBackward0>)\n",
      "tensor(0.3496, dtype=torch.float64, grad_fn=<MseLossBackward0>)\n",
      "tensor(0.3497, dtype=torch.float64, grad_fn=<MseLossBackward0>) tensor(0.4087, dtype=torch.float64, grad_fn=<DivBackward0>)\n",
      "tensor(0.3497, dtype=torch.float64, grad_fn=<MseLossBackward0>)\n",
      "tensor(0.3497, dtype=torch.float64, grad_fn=<MseLossBackward0>) tensor(0.4087, dtype=torch.float64, grad_fn=<DivBackward0>)\n",
      "tensor(0.3497, dtype=torch.float64, grad_fn=<MseLossBackward0>)\n",
      "tensor(0.3497, dtype=torch.float64, grad_fn=<MseLossBackward0>) tensor(0.4086, dtype=torch.float64, grad_fn=<DivBackward0>)\n",
      "tensor(0.3497, dtype=torch.float64, grad_fn=<MseLossBackward0>)\n",
      "tensor(0.3498, dtype=torch.float64, grad_fn=<MseLossBackward0>) tensor(0.4086, dtype=torch.float64, grad_fn=<DivBackward0>)\n",
      "tensor(0.3498, dtype=torch.float64, grad_fn=<MseLossBackward0>)\n",
      "tensor(0.3498, dtype=torch.float64, grad_fn=<MseLossBackward0>) tensor(0.4086, dtype=torch.float64, grad_fn=<DivBackward0>)\n",
      "tensor(0.3498, dtype=torch.float64, grad_fn=<MseLossBackward0>)\n",
      "tensor(0.3499, dtype=torch.float64, grad_fn=<MseLossBackward0>) tensor(0.4085, dtype=torch.float64, grad_fn=<DivBackward0>)\n",
      "tensor(0.3499, dtype=torch.float64, grad_fn=<MseLossBackward0>)\n",
      "tensor(0.3499, dtype=torch.float64, grad_fn=<MseLossBackward0>) tensor(0.4085, dtype=torch.float64, grad_fn=<DivBackward0>)\n",
      "tensor(0.3499, dtype=torch.float64, grad_fn=<MseLossBackward0>)\n",
      "tensor(0.3500, dtype=torch.float64, grad_fn=<MseLossBackward0>) tensor(0.4084, dtype=torch.float64, grad_fn=<DivBackward0>)\n",
      "tensor(0.3500, dtype=torch.float64, grad_fn=<MseLossBackward0>)\n",
      "tensor(0.3500, dtype=torch.float64, grad_fn=<MseLossBackward0>) tensor(0.4084, dtype=torch.float64, grad_fn=<DivBackward0>)\n",
      "tensor(0.3500, dtype=torch.float64, grad_fn=<MseLossBackward0>)\n",
      "tensor(0.3500, dtype=torch.float64, grad_fn=<MseLossBackward0>) tensor(0.4084, dtype=torch.float64, grad_fn=<DivBackward0>)\n",
      "tensor(0.3500, dtype=torch.float64, grad_fn=<MseLossBackward0>)\n",
      "tensor(0.3501, dtype=torch.float64, grad_fn=<MseLossBackward0>) tensor(0.4083, dtype=torch.float64, grad_fn=<DivBackward0>)\n",
      "tensor(0.3501, dtype=torch.float64, grad_fn=<MseLossBackward0>)\n",
      "tensor(0.3501, dtype=torch.float64, grad_fn=<MseLossBackward0>) tensor(0.4083, dtype=torch.float64, grad_fn=<DivBackward0>)\n",
      "tensor(0.3501, dtype=torch.float64, grad_fn=<MseLossBackward0>)\n",
      "tensor(0.3501, dtype=torch.float64, grad_fn=<MseLossBackward0>) tensor(0.4083, dtype=torch.float64, grad_fn=<DivBackward0>)\n",
      "tensor(0.3501, dtype=torch.float64, grad_fn=<MseLossBackward0>)\n",
      "tensor(0.3501, dtype=torch.float64, grad_fn=<MseLossBackward0>) tensor(0.4083, dtype=torch.float64, grad_fn=<DivBackward0>)\n",
      "tensor(0.3501, dtype=torch.float64, grad_fn=<MseLossBackward0>)\n",
      "tensor(0.3501, dtype=torch.float64, grad_fn=<MseLossBackward0>) tensor(0.4083, dtype=torch.float64, grad_fn=<DivBackward0>)\n",
      "tensor(0.3501, dtype=torch.float64, grad_fn=<MseLossBackward0>)\n",
      "tensor(0.3501, dtype=torch.float64, grad_fn=<MseLossBackward0>) tensor(0.4083, dtype=torch.float64, grad_fn=<DivBackward0>)\n",
      "tensor(0.3501, dtype=torch.float64, grad_fn=<MseLossBackward0>)\n",
      "tensor(0.3502, dtype=torch.float64, grad_fn=<MseLossBackward0>) tensor(0.4083, dtype=torch.float64, grad_fn=<DivBackward0>)\n"
     ]
    },
    {
     "ename": "KeyboardInterrupt",
     "evalue": "",
     "output_type": "error",
     "traceback": [
      "\u001b[1;31m---------------------------------------------------------------------------\u001b[0m",
      "\u001b[1;31mKeyboardInterrupt\u001b[0m                         Traceback (most recent call last)",
      "Cell \u001b[1;32mIn[280], line 11\u001b[0m\n\u001b[0;32m      9\u001b[0m \u001b[38;5;66;03m# Compute the loss and its gradients\u001b[39;00m\n\u001b[0;32m     10\u001b[0m loss \u001b[38;5;241m=\u001b[39m model\u001b[38;5;241m.\u001b[39mloss(data, outputs)\n\u001b[1;32m---> 11\u001b[0m \u001b[43mloss\u001b[49m\u001b[38;5;241;43m.\u001b[39;49m\u001b[43mbackward\u001b[49m\u001b[43m(\u001b[49m\u001b[43m)\u001b[49m\n\u001b[0;32m     13\u001b[0m \u001b[38;5;66;03m# Adjust learning weights\u001b[39;00m\n\u001b[0;32m     14\u001b[0m model\u001b[38;5;241m.\u001b[39moptimizer\u001b[38;5;241m.\u001b[39mstep()\n",
      "File \u001b[1;32mc:\\Users\\Micro\\anaconda3\\envs\\sakuyui39\\lib\\site-packages\\torch\\_tensor.py:525\u001b[0m, in \u001b[0;36mTensor.backward\u001b[1;34m(self, gradient, retain_graph, create_graph, inputs)\u001b[0m\n\u001b[0;32m    515\u001b[0m \u001b[38;5;28;01mif\u001b[39;00m has_torch_function_unary(\u001b[38;5;28mself\u001b[39m):\n\u001b[0;32m    516\u001b[0m     \u001b[38;5;28;01mreturn\u001b[39;00m handle_torch_function(\n\u001b[0;32m    517\u001b[0m         Tensor\u001b[38;5;241m.\u001b[39mbackward,\n\u001b[0;32m    518\u001b[0m         (\u001b[38;5;28mself\u001b[39m,),\n\u001b[1;32m   (...)\u001b[0m\n\u001b[0;32m    523\u001b[0m         inputs\u001b[38;5;241m=\u001b[39minputs,\n\u001b[0;32m    524\u001b[0m     )\n\u001b[1;32m--> 525\u001b[0m \u001b[43mtorch\u001b[49m\u001b[38;5;241;43m.\u001b[39;49m\u001b[43mautograd\u001b[49m\u001b[38;5;241;43m.\u001b[39;49m\u001b[43mbackward\u001b[49m\u001b[43m(\u001b[49m\n\u001b[0;32m    526\u001b[0m \u001b[43m    \u001b[49m\u001b[38;5;28;43mself\u001b[39;49m\u001b[43m,\u001b[49m\u001b[43m \u001b[49m\u001b[43mgradient\u001b[49m\u001b[43m,\u001b[49m\u001b[43m \u001b[49m\u001b[43mretain_graph\u001b[49m\u001b[43m,\u001b[49m\u001b[43m \u001b[49m\u001b[43mcreate_graph\u001b[49m\u001b[43m,\u001b[49m\u001b[43m \u001b[49m\u001b[43minputs\u001b[49m\u001b[38;5;241;43m=\u001b[39;49m\u001b[43minputs\u001b[49m\n\u001b[0;32m    527\u001b[0m \u001b[43m\u001b[49m\u001b[43m)\u001b[49m\n",
      "File \u001b[1;32mc:\\Users\\Micro\\anaconda3\\envs\\sakuyui39\\lib\\site-packages\\torch\\autograd\\__init__.py:267\u001b[0m, in \u001b[0;36mbackward\u001b[1;34m(tensors, grad_tensors, retain_graph, create_graph, grad_variables, inputs)\u001b[0m\n\u001b[0;32m    262\u001b[0m     retain_graph \u001b[38;5;241m=\u001b[39m create_graph\n\u001b[0;32m    264\u001b[0m \u001b[38;5;66;03m# The reason we repeat the same comment below is that\u001b[39;00m\n\u001b[0;32m    265\u001b[0m \u001b[38;5;66;03m# some Python versions print out the first line of a multi-line function\u001b[39;00m\n\u001b[0;32m    266\u001b[0m \u001b[38;5;66;03m# calls in the traceback and some print out the last line\u001b[39;00m\n\u001b[1;32m--> 267\u001b[0m \u001b[43m_engine_run_backward\u001b[49m\u001b[43m(\u001b[49m\n\u001b[0;32m    268\u001b[0m \u001b[43m    \u001b[49m\u001b[43mtensors\u001b[49m\u001b[43m,\u001b[49m\n\u001b[0;32m    269\u001b[0m \u001b[43m    \u001b[49m\u001b[43mgrad_tensors_\u001b[49m\u001b[43m,\u001b[49m\n\u001b[0;32m    270\u001b[0m \u001b[43m    \u001b[49m\u001b[43mretain_graph\u001b[49m\u001b[43m,\u001b[49m\n\u001b[0;32m    271\u001b[0m \u001b[43m    \u001b[49m\u001b[43mcreate_graph\u001b[49m\u001b[43m,\u001b[49m\n\u001b[0;32m    272\u001b[0m \u001b[43m    \u001b[49m\u001b[43minputs\u001b[49m\u001b[43m,\u001b[49m\n\u001b[0;32m    273\u001b[0m \u001b[43m    \u001b[49m\u001b[43mallow_unreachable\u001b[49m\u001b[38;5;241;43m=\u001b[39;49m\u001b[38;5;28;43;01mTrue\u001b[39;49;00m\u001b[43m,\u001b[49m\n\u001b[0;32m    274\u001b[0m \u001b[43m    \u001b[49m\u001b[43maccumulate_grad\u001b[49m\u001b[38;5;241;43m=\u001b[39;49m\u001b[38;5;28;43;01mTrue\u001b[39;49;00m\u001b[43m,\u001b[49m\n\u001b[0;32m    275\u001b[0m \u001b[43m\u001b[49m\u001b[43m)\u001b[49m\n",
      "File \u001b[1;32mc:\\Users\\Micro\\anaconda3\\envs\\sakuyui39\\lib\\site-packages\\torch\\autograd\\graph.py:744\u001b[0m, in \u001b[0;36m_engine_run_backward\u001b[1;34m(t_outputs, *args, **kwargs)\u001b[0m\n\u001b[0;32m    742\u001b[0m     unregister_hooks \u001b[38;5;241m=\u001b[39m _register_logging_hooks_on_whole_graph(t_outputs)\n\u001b[0;32m    743\u001b[0m \u001b[38;5;28;01mtry\u001b[39;00m:\n\u001b[1;32m--> 744\u001b[0m     \u001b[38;5;28;01mreturn\u001b[39;00m Variable\u001b[38;5;241m.\u001b[39m_execution_engine\u001b[38;5;241m.\u001b[39mrun_backward(  \u001b[38;5;66;03m# Calls into the C++ engine to run the backward pass\u001b[39;00m\n\u001b[0;32m    745\u001b[0m         t_outputs, \u001b[38;5;241m*\u001b[39margs, \u001b[38;5;241m*\u001b[39m\u001b[38;5;241m*\u001b[39mkwargs\n\u001b[0;32m    746\u001b[0m     )  \u001b[38;5;66;03m# Calls into the C++ engine to run the backward pass\u001b[39;00m\n\u001b[0;32m    747\u001b[0m \u001b[38;5;28;01mfinally\u001b[39;00m:\n\u001b[0;32m    748\u001b[0m     \u001b[38;5;28;01mif\u001b[39;00m attach_logging_hooks:\n",
      "\u001b[1;31mKeyboardInterrupt\u001b[0m: "
     ]
    }
   ],
   "source": [
    "running_loss = 0\n",
    "for i  in range(10000):\n",
    "        # Zero your gradients for every batch!\n",
    "        model.optimizer.zero_grad()\n",
    "\n",
    "        # Make predictions for this batch\n",
    "        outputs = model.forward(data)\n",
    "\n",
    "        # Compute the loss and its gradients\n",
    "        loss = model.loss(data, outputs)\n",
    "        loss.backward()\n",
    "\n",
    "        # Adjust learning weights\n",
    "        model.optimizer.step()\n",
    "\n",
    "        # Gather data and report\n",
    "        running_loss += loss.item()\n",
    "        print(loss)\n",
    "        \n",
    "        with torch.no_grad():\n",
    "                for param in model.parameters():\n",
    "                        norm = param.pow(2).sum(dim=1).sqrt()\n",
    "                        param = param / norm.unsqueeze(-1)"
   ]
  },
  {
   "cell_type": "code",
   "execution_count": null,
   "metadata": {},
   "outputs": [],
   "source": []
  },
  {
   "cell_type": "code",
   "execution_count": null,
   "metadata": {},
   "outputs": [],
   "source": []
  },
  {
   "cell_type": "code",
   "execution_count": null,
   "metadata": {},
   "outputs": [],
   "source": []
  }
 ],
 "metadata": {
  "kernelspec": {
   "display_name": "sakuyui39",
   "language": "python",
   "name": "python3"
  },
  "language_info": {
   "codemirror_mode": {
    "name": "ipython",
    "version": 3
   },
   "file_extension": ".py",
   "mimetype": "text/x-python",
   "name": "python",
   "nbconvert_exporter": "python",
   "pygments_lexer": "ipython3",
   "version": "3.9.18"
  }
 },
 "nbformat": 4,
 "nbformat_minor": 2
}
